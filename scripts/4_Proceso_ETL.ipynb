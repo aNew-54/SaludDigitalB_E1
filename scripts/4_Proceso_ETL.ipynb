{
 "cells": [
  {
   "cell_type": "markdown",
   "id": "cf4a8467",
   "metadata": {},
   "source": [
    "## Fase 4 – ETL (Limpieza de Datos)"
   ]
  },
  {
   "cell_type": "code",
   "execution_count": 5,
   "id": "c45a51f3",
   "metadata": {},
   "outputs": [
    {
     "name": "stdout",
     "output_type": "stream",
     "text": [
      "Valores nulos antes de la limpieza:\n",
      "id_paciente         0\n",
      "nombre             81\n",
      "edad              132\n",
      "sexo              137\n",
      "distrito          157\n",
      "servicio          151\n",
      "fecha_atencion     71\n",
      "monto             181\n",
      "dtype: int64\n",
      "\n",
      "Después de la limpieza:\n",
      "id_paciente       0\n",
      "nombre            0\n",
      "edad              0\n",
      "sexo              0\n",
      "distrito          0\n",
      "servicio          0\n",
      "fecha_atencion    0\n",
      "monto             0\n",
      "dtype: int64\n",
      "\n",
      "Archivo limpio guardado en: C:\\Users\\balfa\\Documents\\SaludDigitalB_E1\\database\\pacientes_clean.csv\n"
     ]
    }
   ],
   "source": [
    "import pandas as pd\n",
    "from pathlib import Path\n",
    "\n",
    "data_path = Path.cwd() / \"../data\"\n",
    "database_path = Path.cwd() / \"../database\"\n",
    "database_path.mkdir(parents=True, exist_ok=True)\n",
    "\n",
    "input_file = data_path / \"pacientes.csv\"\n",
    "output_file = database_path / \"pacientes_clean.csv\"\n",
    "\n",
    "df = pd.read_csv(input_file, na_values=[\"NA\", \"\"])\n",
    "\n",
    "print(\"Valores nulos antes de la limpieza:\")\n",
    "print(df.isnull().sum())\n",
    "\n",
    "df[\"nombre\"] = df[\"nombre\"].fillna(\"Sin Nombre\")\n",
    "df[\"edad\"] = df[\"edad\"].fillna(df[\"edad\"].median())\n",
    "df[\"sexo\"] = df[\"sexo\"].fillna(\"No especificado\")\n",
    "df[\"distrito\"] = df[\"distrito\"].fillna(\"Desconocido\")\n",
    "df[\"servicio\"] = df[\"servicio\"].fillna(\"Sin Servicio\")\n",
    "df[\"fecha_atencion\"] = df[\"fecha_atencion\"].fillna(\"01/01/2024\")\n",
    "df[\"monto\"] = df[\"monto\"].fillna(0)\n",
    "\n",
    "df[\"fecha_atencion\"] = pd.to_datetime(df[\"fecha_atencion\"], format=\"%d/%m/%Y\", errors=\"coerce\")\n",
    "df[\"edad\"] = pd.to_numeric(df[\"edad\"], errors=\"coerce\").astype(\"Int64\")\n",
    "df[\"monto\"] = pd.to_numeric(df[\"monto\"], errors=\"coerce\").round(2)\n",
    "\n",
    "df.dropna(how=\"all\", inplace=True)\n",
    "df.drop_duplicates(inplace=True)\n",
    "\n",
    "print(\"\\nDespués de la limpieza:\")\n",
    "print(df.isnull().sum())\n",
    "\n",
    "df.to_csv(output_file, index=False, encoding=\"utf-8\")\n",
    "print(f\"\\nArchivo limpio guardado en: {output_file.resolve()}\")\n"
   ]
  }
 ],
 "metadata": {
  "kernelspec": {
   "display_name": "myenv",
   "language": "python",
   "name": "python3"
  },
  "language_info": {
   "codemirror_mode": {
    "name": "ipython",
    "version": 3
   },
   "file_extension": ".py",
   "mimetype": "text/x-python",
   "name": "python",
   "nbconvert_exporter": "python",
   "pygments_lexer": "ipython3",
   "version": "3.13.5"
  }
 },
 "nbformat": 4,
 "nbformat_minor": 5
}
