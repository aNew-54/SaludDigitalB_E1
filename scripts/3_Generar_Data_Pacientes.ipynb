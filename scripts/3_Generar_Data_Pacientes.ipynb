{
 "cells": [
  {
   "cell_type": "markdown",
   "id": "4e9737ce",
   "metadata": {},
   "source": [
    "## Generando datos aleatorios de pacientes"
   ]
  },
  {
   "cell_type": "code",
   "execution_count": 1,
   "id": "4989d6d6",
   "metadata": {},
   "outputs": [
    {
     "name": "stdout",
     "output_type": "stream",
     "text": [
      "Archivo generado correctamente en: C:\\Users\\balfa\\Documents\\SaludDigitalB_E1\\data\\pacientes.csv\n",
      "Total de registros: 3000\n"
     ]
    }
   ],
   "source": [
    "from pathlib import Path\n",
    "import csv\n",
    "import random\n",
    "from datetime import datetime, timedelta\n",
    "\n",
    "#  Ruta del archivo\n",
    "data_path = Path.cwd() / \"../data\"\n",
    "csv_file = data_path / \"pacientes.csv\"\n",
    "\n",
    "#  Opciones de datos\n",
    "sexo = [\"M\", \"F\"]\n",
    "distrito = [\"San Isidro\", \"Miraflores\", \"Surco\", \"La Molina\", \"Lince\", \"Callao\", \"San Juan de Lurigancho\"]\n",
    "servicio = [\"Consulta General\", \"Emergencia\", \"Pediatría\", \"Ginecología\", \"Odontología\", \"Cardiología\"]\n",
    "\n",
    "nombres = [\"Juan\", \"María\", \"Carlos\", \"Ana\", \"Luis\", \"Carmen\", \"Jorge\", \"Lucía\", \"Pedro\", \"Sofía\",\n",
    "           \"Miguel\", \"Elena\", \"Diego\", \"Valeria\", \"Andrés\", \"Isabel\", \"Fernando\", \"Gabriela\",\n",
    "           \"Alberto\", \"Marta\", \"Ricardo\", \"Patricia\", \"Santiago\", \"Natalia\", \"Javier\", \"Lorena\",\n",
    "           \"Roberto\", \"Verónica\", \"Héctor\", \"Daniela\", \"Raúl\", \"Claudia\", \"Álvaro\", \"Silvia\"]\n",
    "\n",
    "apellidos = [\"García\", \"Martínez\", \"Rodríguez\", \"López\", \"Hernández\", \"Pérez\", \"Sánchez\", \"Ramírez\",\n",
    "             \"Cruz\", \"Flores\", \"Gómez\", \"Díaz\", \"Torres\", \"Vargas\", \"Rojas\", \"Castillo\", \"Jiménez\", \"Morales\",\n",
    "             \"Silva\", \"Mendoza\", \"Ortiz\", \"Navarro\", \"Romero\", \"Suárez\", \"Ramos\", \"Vega\", \"Cabrera\", \"Soto\", \"Delgado\",\n",
    "             \"Castro\", \"Guerrero\", \"Campos\", \"Acosta\", \"Alfaro\", \"Robles\"]\n",
    "\n",
    "#  Funciones auxiliares\n",
    "def generar_fecha():\n",
    "    inicio = datetime(2024, 1, 1)\n",
    "    fin = datetime(2025, 1, 1)\n",
    "    delta = fin - inicio\n",
    "    fecha_random = inicio + timedelta(days=random.randint(0, delta.days))\n",
    "    return fecha_random.strftime(\"%d/%m/%Y\")\n",
    "\n",
    "def generar_nombre_completo():\n",
    "    nombre = random.choice(nombres)\n",
    "    apellido = random.choice(apellidos)\n",
    "    return f\"{nombre} {apellido}\"\n",
    "\n",
    "def valor_con_na(valor_func, probabilidad_na=0.05):\n",
    "    return valor_func() if random.random() > probabilidad_na else \"NA\"\n",
    "\n",
    "def valor_lista_con_na(lista, probabilidad_na=0.05):\n",
    "    return random.choice(lista) if random.random() > probabilidad_na else \"NA\"\n",
    "\n",
    "# Generar registros\n",
    "registros = []\n",
    "for i in range(1, 3001):\n",
    "    id_paciente = f\"P{i:04}\"\n",
    "    nombre = valor_con_na(generar_nombre_completo, 0.03)\n",
    "    edad = valor_con_na(lambda: random.randint(8, 90), 0.04)\n",
    "    sexo_paciente = valor_lista_con_na(sexo, 0.05)\n",
    "    distrito_paciente = valor_lista_con_na(distrito, 0.05)\n",
    "    servicio_solicitado = valor_lista_con_na(servicio, 0.05)\n",
    "    fecha_atencion = valor_con_na(generar_fecha, 0.02)\n",
    "    monto_pagado = valor_con_na(lambda: round(random.uniform(50, 1000), 2), 0.06)\n",
    "\n",
    "    registros.append([\n",
    "        id_paciente,\n",
    "        nombre,\n",
    "        edad,\n",
    "        sexo_paciente,\n",
    "        distrito_paciente,\n",
    "        servicio_solicitado,\n",
    "        fecha_atencion,\n",
    "        monto_pagado\n",
    "    ])\n",
    "\n",
    "#  Escribir CSV\n",
    "with open(csv_file, mode=\"w\", newline=\"\", encoding=\"utf-8\") as file:\n",
    "    writer = csv.writer(file)\n",
    "    writer.writerow([\"id_paciente\", \"nombre\", \"edad\", \"sexo\", \"distrito\", \"servicio\", \"fecha_atencion\", \"monto\"])\n",
    "    writer.writerows(registros)\n",
    "\n",
    "\n",
    "print(f\"Archivo generado correctamente en: {csv_file.resolve()}\")\n",
    "print(f\"Total de registros: {len(registros)}\")\n"
   ]
  }
 ],
 "metadata": {
  "kernelspec": {
   "display_name": "myenv",
   "language": "python",
   "name": "python3"
  },
  "language_info": {
   "codemirror_mode": {
    "name": "ipython",
    "version": 3
   },
   "file_extension": ".py",
   "mimetype": "text/x-python",
   "name": "python",
   "nbconvert_exporter": "python",
   "pygments_lexer": "ipython3",
   "version": "3.13.5"
  }
 },
 "nbformat": 4,
 "nbformat_minor": 5
}
