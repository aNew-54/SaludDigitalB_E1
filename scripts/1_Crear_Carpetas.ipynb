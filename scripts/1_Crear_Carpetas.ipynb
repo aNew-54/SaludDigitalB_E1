{
 "cells": [
  {
   "cell_type": "markdown",
   "id": "971bf973",
   "metadata": {},
   "source": [
    "## Fase 1: CREACIÓN DE ARCHIVOS"
   ]
  },
  {
   "cell_type": "markdown",
   "id": "090df75d",
   "metadata": {},
   "source": [
    "#### Creación de la carpeta usando pathlib"
   ]
  },
  {
   "cell_type": "code",
   "execution_count": null,
   "id": "0f2f980b",
   "metadata": {},
   "outputs": [
    {
     "name": "stdout",
     "output_type": "stream",
     "text": [
      "Carpeta creada: c:\\Users\\balfa\\Documents\\SaludDigitalB_E1\\data\n",
      "Carpeta creada: c:\\Users\\balfa\\Documents\\SaludDigitalB_E1\\database\n",
      "Carpeta creada: c:\\Users\\balfa\\Documents\\SaludDigitalB_E1\\reports\n",
      "Carpeta creada: c:\\Users\\balfa\\Documents\\SaludDigitalB_E1\\ci\n",
      "Carpeta creada: c:\\Users\\balfa\\Documents\\SaludDigitalB_E1\\git\n",
      "Carpeta creada: c:\\Users\\balfa\\Documents\\SaludDigitalB_E1\\scripts\n"
     ]
    }
   ],
   "source": [
    "from pathlib import Path\n",
    "\n",
    "#Creación de las carpetas necesarias\n",
    "\n",
    "carpetas = [\"data\", \"database\", \"reports\", \"ci\", \"git\", \"scripts\"]\n",
    "path_proyecto = Path.cwd() / \"../\"\n",
    "\n",
    "for carpeta in carpetas: \n",
    "    path_carpeta = path_proyecto / carpeta\n",
    "    path_carpeta.mkdir(parents=True,exist_ok=True)\n",
    "    print(f\"Carpeta creada: {path_carpeta}\")"
   ]
  },
  {
   "cell_type": "markdown",
   "id": "5dbcb161",
   "metadata": {},
   "source": []
  }
 ],
 "metadata": {
  "kernelspec": {
   "display_name": "myenv",
   "language": "python",
   "name": "python3"
  },
  "language_info": {
   "codemirror_mode": {
    "name": "ipython",
    "version": 3
   },
   "file_extension": ".py",
   "mimetype": "text/x-python",
   "name": "python",
   "nbconvert_exporter": "python",
   "pygments_lexer": "ipython3",
   "version": "3.13.5"
  }
 },
 "nbformat": 4,
 "nbformat_minor": 5
}
