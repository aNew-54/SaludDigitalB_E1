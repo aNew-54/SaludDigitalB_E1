{
 "cells": [
  {
   "cell_type": "markdown",
   "id": "6c9a0dad",
   "metadata": {},
   "source": [
    "## Fase 2 - Definición de Esquema\n",
    "\n",
    "Se crea el archivo base csv."
   ]
  },
  {
   "cell_type": "code",
   "execution_count": 1,
   "id": "595a87fc",
   "metadata": {},
   "outputs": [
    {
     "name": "stdout",
     "output_type": "stream",
     "text": [
      "Archivo 'base.csv' creado correctamente.\n"
     ]
    }
   ],
   "source": [
    "from pathlib import Path \n",
    "\n",
    "data_path = Path.cwd() / \"../data\" \n",
    "# Crear archivo CSV base \n",
    "archivo_csv = data_path / \"base.csv\" \n",
    "if not archivo_csv.exists(): \n",
    "    with open(archivo_csv, \"w\", encoding=\"utf-8\") as f: \n",
    "        f.write(\"id_paciente,nombre,edad,sexo,distrito,servicio,fecha_atencion,monto\\n\") \n",
    "    print(\"Archivo 'base.csv' creado correctamente.\") \n",
    "else: \n",
    "    print(\"El archivo 'base.csv' ya existe.\") "
   ]
  }
 ],
 "metadata": {
  "kernelspec": {
   "display_name": "myenv",
   "language": "python",
   "name": "python3"
  },
  "language_info": {
   "codemirror_mode": {
    "name": "ipython",
    "version": 3
   },
   "file_extension": ".py",
   "mimetype": "text/x-python",
   "name": "python",
   "nbconvert_exporter": "python",
   "pygments_lexer": "ipython3",
   "version": "3.13.5"
  }
 },
 "nbformat": 4,
 "nbformat_minor": 5
}
