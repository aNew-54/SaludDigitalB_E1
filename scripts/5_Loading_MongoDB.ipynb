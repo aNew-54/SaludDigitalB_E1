{
 "cells": [
  {
   "cell_type": "markdown",
   "id": "bb5dec39",
   "metadata": {},
   "source": [
    "## Fase 5 – Carga en MongoDB\n",
    "\n",
    "Crear base de datos SaludDigital_2025 y colección pacientes\n",
    "Insertar los registros limpios desde CSV.\n"
   ]
  },
  {
   "cell_type": "code",
   "execution_count": null,
   "id": "d146e204",
   "metadata": {},
   "outputs": [
    {
     "name": "stdout",
     "output_type": "stream",
     "text": [
      "Datos insertados en MongoDB correctamente.\n"
     ]
    }
   ],
   "source": [
    "import pandas as pd\n",
    "from pymongo import MongoClient\n",
    "\n",
    "# Conexión a MongoDB\n",
    "client = MongoClient(\"mongodb://localhost:27017/\")\n",
    "db = client[\"SaludDigital_2025\"]\n",
    "collection = db[\"pacientes\"]\n",
    "\n",
    "# Eliminar registros anteriores\n",
    "collection.delete_many({})\n",
    "\n",
    "# Cargar datos desde CSV limpio\n",
    "df = pd.read_csv(\"../database/pacientes_clean.csv\")\n",
    "data = df.to_dict(orient=\"records\")\n",
    "\n",
    "# Insertar en MongoDB\n",
    "collection.insert_many(data)\n",
    "print(\"Datos insertados en MongoDB correctamente.\")\n"
   ]
  }
 ],
 "metadata": {
  "kernelspec": {
   "display_name": "myenv",
   "language": "python",
   "name": "python3"
  },
  "language_info": {
   "codemirror_mode": {
    "name": "ipython",
    "version": 3
   },
   "file_extension": ".py",
   "mimetype": "text/x-python",
   "name": "python",
   "nbconvert_exporter": "python",
   "pygments_lexer": "ipython3",
   "version": "3.13.5"
  }
 },
 "nbformat": 4,
 "nbformat_minor": 5
}
